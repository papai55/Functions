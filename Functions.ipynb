{
 "cells": [
  {
   "cell_type": "markdown",
   "id": "963c99c6-d525-4dba-aaff-dee1dc595c4e",
   "metadata": {},
   "source": [
    "# Functions"
   ]
  },
  {
   "cell_type": "markdown",
   "id": "8bc7045c-57a3-4422-bace-f5cb25537544",
   "metadata": {},
   "source": [
    "## Theory"
   ]
  },
  {
   "cell_type": "markdown",
   "id": "62405a88-0d79-4db9-b270-2d26834cb4a9",
   "metadata": {},
   "source": [
    "### 1. What is the difference between a function and a method in Python?\n",
    " - A function is defined using the 'def' keyword and can be called independently. It is not tied to any object."
   ]
  },
  {
   "cell_type": "code",
   "execution_count": 1,
   "id": "4926770f-5757-4c78-ab3f-825bf569fbf4",
   "metadata": {},
   "outputs": [
    {
     "name": "stdout",
     "output_type": "stream",
     "text": [
      "hello\n"
     ]
    }
   ],
   "source": [
    "# Function Example\n",
    "def greet():\n",
    "    print(\"hello\")\n",
    "greet()\n"
   ]
  },
  {
   "cell_type": "markdown",
   "id": "be37a2bb-08f4-44d2-aa5b-14f8f4366aeb",
   "metadata": {},
   "source": [
    "- A method is a function that is associated with an object and is called using dot notation (.). It is defined inside a class or works on data types like lists, strings, etc."
   ]
  },
  {
   "cell_type": "code",
   "execution_count": 2,
   "id": "5e13dc6c-00e2-45ef-8a47-89ece08b88d0",
   "metadata": {},
   "outputs": [
    {
     "name": "stdout",
     "output_type": "stream",
     "text": [
      "PAPAI\n"
     ]
    }
   ],
   "source": [
    "# Method Example\n",
    "name = \"papai\"\n",
    "print(name.upper())"
   ]
  },
  {
   "cell_type": "markdown",
   "id": "03c80607-284e-4663-b6c5-e2c1f2195845",
   "metadata": {},
   "source": [
    "### 2. Explain the concept of function arguments and parameters in Python.\n",
    " - Parameters are the placeholders defined in the function definition.\n",
    "They act as variables that hold the values passed into the function.\n"
   ]
  },
  {
   "cell_type": "code",
   "execution_count": 4,
   "id": "71099bb2-fb51-49f4-81ab-8c2ec7f4ae26",
   "metadata": {},
   "outputs": [],
   "source": [
    "# Example\n",
    "def greet(name):\n",
    "    print(\"hello\",name)\n",
    "# here name is a parameter"
   ]
  },
  {
   "cell_type": "markdown",
   "id": "377ad521-1f57-4ada-8d94-8ae96fdab3b6",
   "metadata": {},
   "source": [
    " - Arguments are the actual values you provide when calling the function.\n",
    "They are passed into the function and assigned to the corresponding parameters."
   ]
  },
  {
   "cell_type": "code",
   "execution_count": 5,
   "id": "40c4bd8f-d894-4396-a596-c0c9cf88144b",
   "metadata": {},
   "outputs": [
    {
     "name": "stdout",
     "output_type": "stream",
     "text": [
      "hello papai\n"
     ]
    }
   ],
   "source": [
    "#Example :\n",
    "greet(\"papai\")"
   ]
  },
  {
   "cell_type": "markdown",
   "id": "57ef6b8c-1630-4ba6-82be-8ac1bf0f7501",
   "metadata": {},
   "source": [
    "### 3. What are the different ways to define and call a function in Python?\n",
    " - In Python, functions can be defined and called in several ways.\n",
    "  With or without parameters (single , multiple) , With default values , With or without return values , as lambda (anonymous) functions"
   ]
  },
  {
   "cell_type": "code",
   "execution_count": 7,
   "id": "8acefa65-9e03-4471-a647-c1bf01cc5d58",
   "metadata": {},
   "outputs": [
    {
     "name": "stdout",
     "output_type": "stream",
     "text": [
      "Hello!\n"
     ]
    }
   ],
   "source": [
    "# Without parameter\n",
    "\n",
    "def greet():\n",
    "    print(\"Hello!\")\n",
    "#Call:\n",
    "greet()\n"
   ]
  },
  {
   "cell_type": "code",
   "execution_count": 8,
   "id": "1b7ddd83-5ed0-40c3-a4ca-84df57c6d338",
   "metadata": {},
   "outputs": [
    {
     "name": "stdout",
     "output_type": "stream",
     "text": [
      "hello Papai\n"
     ]
    }
   ],
   "source": [
    "# With Parameter\n",
    "\n",
    "def greet(name):\n",
    "    print(\"hello\" , name)\n",
    "# Call:\n",
    "greet(\"Papai\")"
   ]
  },
  {
   "cell_type": "code",
   "execution_count": 9,
   "id": "032cb471-f4ae-4c14-92ea-735e2226dd05",
   "metadata": {},
   "outputs": [
    {
     "name": "stdout",
     "output_type": "stream",
     "text": [
      "papai is 24 years old\n"
     ]
    }
   ],
   "source": [
    "# With multiple Parameter\n",
    "\n",
    "def info(name, age):\n",
    "    print(name , \"is\", age , \"years old\")\n",
    "#Call:\n",
    "info(\"papai\", 24)"
   ]
  },
  {
   "cell_type": "code",
   "execution_count": 12,
   "id": "49c4116e-33b1-40a3-916f-e37f60aaeea3",
   "metadata": {},
   "outputs": [
    {
     "name": "stdout",
     "output_type": "stream",
     "text": [
      "Hello Akash\n",
      "Hello Papai\n"
     ]
    }
   ],
   "source": [
    "# With default Parameter\n",
    "\n",
    "def greet(name = \"Akash\"):\n",
    "    print(\"Hello\" , name)\n",
    "#call:\n",
    "greet()                       # here Akash is a default name and Papai is provided\n",
    "greet(\"Papai\")"
   ]
  },
  {
   "cell_type": "code",
   "execution_count": 14,
   "id": "4beb7032-aeb0-4329-a3c4-611e07ec6e57",
   "metadata": {},
   "outputs": [
    {
     "name": "stdout",
     "output_type": "stream",
     "text": [
      "17\n"
     ]
    }
   ],
   "source": [
    "# Return value Parameter \n",
    "\n",
    "def add(a,b):\n",
    "    print(a+b)\n",
    "#Call:\n",
    "add(8 ,9 )"
   ]
  },
  {
   "cell_type": "code",
   "execution_count": 21,
   "id": "6469086b-4b44-43e9-8d13-a1c331515311",
   "metadata": {},
   "outputs": [
    {
     "name": "stdout",
     "output_type": "stream",
     "text": [
      "25\n"
     ]
    }
   ],
   "source": [
    "# Lambda Function (single line annonymous function)\n",
    "\n",
    "square = lambda x : x ** 2\n",
    "print(square(5))"
   ]
  },
  {
   "cell_type": "markdown",
   "id": "2bbe8ee4-d430-44b0-b116-4bea845b12fa",
   "metadata": {},
   "source": [
    "### 4. What is the purpose of the 'return' statement in a Python function?\n",
    " - 'return' gives back an answer from the function .You can save that answer in a variable .The function stops running when it reaches return."
   ]
  },
  {
   "cell_type": "code",
   "execution_count": 1,
   "id": "6e8ba6c9-9e1c-4cab-bd48-2b48680db408",
   "metadata": {},
   "outputs": [
    {
     "name": "stdout",
     "output_type": "stream",
     "text": [
      "11\n"
     ]
    }
   ],
   "source": [
    "# For example\n",
    "#with return\n",
    "def add(a,b):\n",
    "    return a+b\n",
    "result = add (5 , 6)\n",
    "print(result)"
   ]
  },
  {
   "cell_type": "code",
   "execution_count": 10,
   "id": "93f9892d-de6a-4be8-836d-221ef1373224",
   "metadata": {},
   "outputs": [
    {
     "name": "stdout",
     "output_type": "stream",
     "text": [
      "15\n",
      "None\n"
     ]
    }
   ],
   "source": [
    "# without return\n",
    "def add(a,b):\n",
    "    print(a + b)\n",
    "result = add(9 , 6)            # here output 15 also none\n",
    "print (result)"
   ]
  },
  {
   "cell_type": "markdown",
   "id": "b54b4da2-30c5-4b1f-87fe-c22e907c1c1d",
   "metadata": {},
   "source": [
    "### 5. What are iterators in Python and how do they differ from iterables?\n",
    " - Iterables : An iterable is any object that you can loop over using a for loop.\n",
    "Examples: lists, tuples, strings, dictionaries, and sets.\n",
    " - If you can use for item in object, then it's an iterable."
   ]
  },
  {
   "cell_type": "code",
   "execution_count": 11,
   "id": "d3693f0a-c47c-40d2-b53a-8a56cd327f3c",
   "metadata": {},
   "outputs": [
    {
     "name": "stdout",
     "output_type": "stream",
     "text": [
      "5\n",
      "6\n",
      "7\n"
     ]
    }
   ],
   "source": [
    "# Example\n",
    "my_list =[5,6,7]\n",
    "for item in my_list:\n",
    "    print(item)"
   ]
  },
  {
   "cell_type": "markdown",
   "id": "5d70f1d8-3932-452d-881b-05b53ee23e8b",
   "metadata": {},
   "source": [
    " - Iterators:\n",
    "An iterator is an object that remembers its position and lets you go through each item one at a time using the next() function.\n",
    "You can create an iterator from an iterable using the iter() function."
   ]
  },
  {
   "cell_type": "code",
   "execution_count": 15,
   "id": "73abeaa7-d60a-42a9-867a-5cec3ee77eb0",
   "metadata": {},
   "outputs": [
    {
     "name": "stdout",
     "output_type": "stream",
     "text": [
      "5\n",
      "6\n"
     ]
    }
   ],
   "source": [
    "# Example\n",
    "my_list =[5,6,7]\n",
    "i = iter(my_list)\n",
    "print(next(i))\n",
    "print(next(i))             # every time get one element using next(i)"
   ]
  },
  {
   "cell_type": "markdown",
   "id": "78e2ee9f-9592-4c1b-85cd-66394e0c6b1c",
   "metadata": {},
   "source": [
    "### 6. Explain the concept of generators in Python and how they are defined.\n",
    " - Generators are a special type of function in Python that generate values one at a time as you loop through them — instead of returning all values at once.They are memory-efficient and use the 'yield' keyword instead of 'return'.\n",
    "\n",
    " - Generators are defined like normal functions, but they use 'yield' to give back values one by one."
   ]
  },
  {
   "cell_type": "code",
   "execution_count": 16,
   "id": "f63460d2-8c8f-48f3-aca9-52976bc7b691",
   "metadata": {},
   "outputs": [],
   "source": [
    "# Example\n",
    "def  even_numbers():\n",
    "    yield 2\n",
    "    yield 4\n",
    "    yield 6"
   ]
  },
  {
   "cell_type": "code",
   "execution_count": 17,
   "id": "86fb8d1d-c617-4707-b048-55d917e8b7d2",
   "metadata": {},
   "outputs": [
    {
     "name": "stdout",
     "output_type": "stream",
     "text": [
      "2\n",
      "4\n",
      "6\n"
     ]
    }
   ],
   "source": [
    "for i in even_numbers():\n",
    "    print(i)                   # use for loop"
   ]
  },
  {
   "cell_type": "markdown",
   "id": "2e015a20-e2f4-445f-a5b1-2dd6598091dd",
   "metadata": {},
   "source": [
    "### 7. What are the advantages of using generators over regular functions?\n",
    " - ### Memory Efficient\n",
    "Generators do not store all values in memory.\n",
    "They generate one value at a time using yield.\n",
    "\n",
    "### Faster for Large Data\n",
    "Since they don’t load everything at once, they can start working immediately and are faster in many cases.\n",
    "\n",
    "### No Need to Create a Full List\n",
    "Regular functions often return lists. Generators return items one by one, saving space.\n",
    "\n",
    "### Pause and Resume\n",
    "Generators remember where they left off. When yield is used, it pauses the function and resumes from the same point later.\n",
    "\n",
    "### Good for Infinite or Large Sequences\n",
    "You can write generators that create infinite values or work with"
   ]
  },
  {
   "cell_type": "code",
   "execution_count": 18,
   "id": "e0a8e6c2-1753-4ac9-8241-982266c2d9c6",
   "metadata": {},
   "outputs": [],
   "source": [
    "# Example\n",
    "def numbers():\n",
    "    return [1,2,3]  # load all values at once"
   ]
  },
  {
   "cell_type": "code",
   "execution_count": 19,
   "id": "604ad59b-1eb8-44c8-8dac-5511b0440290",
   "metadata": {},
   "outputs": [],
   "source": [
    "def numbers():\n",
    "    yield 1\n",
    "    yield 2\n",
    "    yield 3                  #give one value at a time"
   ]
  },
  {
   "cell_type": "markdown",
   "id": "8e4d3933-834b-40bf-a92a-38c6d6f2507d",
   "metadata": {},
   "source": [
    "### 8. What is a lambda function in Python and when is it typically used?\n",
    " - A lambda function in Python is a small anonymous function (a function without a name).\n",
    "It is used to write quick, one-line functions.It uses the lambda keyword instead of def."
   ]
  },
  {
   "cell_type": "code",
   "execution_count": 21,
   "id": "8e2021c5-565e-4a50-84cd-4a9c1772fc9b",
   "metadata": {},
   "outputs": [
    {
     "name": "stdout",
     "output_type": "stream",
     "text": [
      "30\n"
     ]
    }
   ],
   "source": [
    "# Syntax >> lambda argument:expression\n",
    "# Example\n",
    "multiply = lambda a ,b : a * b\n",
    "print(multiply(5,6))"
   ]
  },
  {
   "cell_type": "markdown",
   "id": "c461b63e-2877-4680-81b3-a62b8be3ddb6",
   "metadata": {},
   "source": [
    " - Lambda functions are typically used when:\n",
    "\n",
    "You need a short, simple function .You want to pass a function as an argument .You don’t want to define a full function using def.\n",
    "\n",
    "It is often used with functions like map(), filter(), and sorted()."
   ]
  },
  {
   "cell_type": "markdown",
   "id": "e8ae445e-0bea-4069-b115-7d6180ed3a98",
   "metadata": {},
   "source": [
    "### 9. Explain the purpose and usage of the 'map()' function in Python.\n",
    " - The map() function in Python is used to apply a function to every item in an iterable (like a list or tuple) and return a new map object (which can be converted to a list, tuple, etc.)\n",
    " - Makes code short and clean , Avoids the need for manual loops , Works well with lambda functions"
   ]
  },
  {
   "cell_type": "code",
   "execution_count": 22,
   "id": "20c3c561-7eb3-4de7-b2e3-e22642c92196",
   "metadata": {},
   "outputs": [
    {
     "name": "stdout",
     "output_type": "stream",
     "text": [
      "[1, 4, 9, 16]\n"
     ]
    }
   ],
   "source": [
    "def square(x):\n",
    "    return x * x\n",
    "\n",
    "numbers = [1, 2, 3, 4]\n",
    "result = map(square, numbers)\n",
    "print(list(result))  # Output: [1, 4, 9, 16]"
   ]
  },
  {
   "cell_type": "markdown",
   "id": "b54d691c-e989-46be-bba7-5ffdfd4d5e55",
   "metadata": {},
   "source": [
    "### 10. What is the difference between 'map()', 'reduce()', and 'filter()' functions in Python?\n",
    " - map() – Transform Elements : \n",
    "Applies a function to each item in an iterable. Returns a new iterable with the transformed values."
   ]
  },
  {
   "cell_type": "code",
   "execution_count": 7,
   "id": "cc5208b0-2abd-4fe4-baff-747219a8af17",
   "metadata": {},
   "outputs": [
    {
     "name": "stdout",
     "output_type": "stream",
     "text": [
      "[1, 4, 9, 16, 25]\n"
     ]
    }
   ],
   "source": [
    "# Example\n",
    "nums = [1,2,3,4,5]\n",
    "result = map(lambda x : x ** 2 , nums)\n",
    "print(list(result))"
   ]
  },
  {
   "cell_type": "markdown",
   "id": "e493107f-f72d-4b0d-9bf0-c22255dcdf30",
   "metadata": {},
   "source": [
    " - filter() – Select Elements : \n",
    "Filters items in an iterable based on a condition. Returns only the items that meet the condition."
   ]
  },
  {
   "cell_type": "code",
   "execution_count": 10,
   "id": "5e901562-f1f9-434d-b425-96d6104cf42f",
   "metadata": {},
   "outputs": [
    {
     "name": "stdout",
     "output_type": "stream",
     "text": [
      "[2, 4, 6]\n"
     ]
    }
   ],
   "source": [
    "# Example\n",
    "nums = [1,2,3,4,5,6]\n",
    "result = filter(lambda x : x % 2 == 0 , nums)\n",
    "print(list(result))"
   ]
  },
  {
   "cell_type": "markdown",
   "id": "0a4391f2-949e-4438-9087-f0b5305530a4",
   "metadata": {},
   "source": [
    " - reduce() - combine elements : reduce() is a function that is used to reduce a list of values to a single value\n",
    "by applying a function again and again to the list elements."
   ]
  },
  {
   "cell_type": "code",
   "execution_count": 12,
   "id": "984d19cf-a50a-4416-8ba2-a22cea25db29",
   "metadata": {},
   "outputs": [
    {
     "name": "stdout",
     "output_type": "stream",
     "text": [
      "15\n"
     ]
    }
   ],
   "source": [
    "# Example\n",
    "from functools import reduce\n",
    "nums = [1,2,3,4,5]\n",
    "result = reduce(lambda x ,y : x+y , nums)\n",
    "print(result)"
   ]
  },
  {
   "cell_type": "markdown",
   "id": "a4cdcf24-6b32-48e2-bcf8-897b24ee422b",
   "metadata": {},
   "source": [
    "### 11. Using pen & Paper write the internal mechanism for sum operation using  reduce function on this given \n",
    "list:[47,11,42,13];"
   ]
  },
  {
   "attachments": {
    "ab632fef-a605-424b-8fdf-52078e2ae8b4.jpg": {
     "image/jpeg": "[encoded data removed]"
    }
   },
   "cell_type": "markdown",
   "id": "4a140b96-653c-4a1f-8b97-febabdf52fb3",
   "metadata": {},
   "source": [
    "![Internal mechanism pen paper wp - Copy.jpg](attachment:ab632fef-a605-424b-8fdf-52078e2ae8b4.jpg)"
   ]
  },
  {
   "cell_type": "code",
   "execution_count": 13,
   "id": "896e8875-e052-45ca-8d74-2b8e8f8a72e2",
   "metadata": {},
   "outputs": [
    {
     "name": "stdout",
     "output_type": "stream",
     "text": [
      "113\n"
     ]
    }
   ],
   "source": [
    "# Example\n",
    "from functools import reduce\n",
    "nums = [47,11,42,13]\n",
    "result = reduce(lambda x,y : x + y , nums)\n",
    "print(result)"
   ]
  },
  {
   "cell_type": "markdown",
   "id": "f5ae65ab-ec3c-4daa-9f41-eda1ed2712e3",
   "metadata": {},
   "source": [
    "## Practical"
   ]
  },
  {
   "cell_type": "markdown",
   "id": "161f6a9e-6dc5-4d80-91ae-8dcee09ca6bd",
   "metadata": {},
   "source": [
    "### 1. Write Python function that takes a list of numbers as input and returns the sum of all even  numbers in the list .\n",
    " - "
   ]
  },
  {
   "cell_type": "code",
   "execution_count": 14,
   "id": "06d39d93-caad-48fc-a3bc-7808af630fd7",
   "metadata": {},
   "outputs": [
    {
     "name": "stdout",
     "output_type": "stream",
     "text": [
      "Sum of even numbers: 20\n"
     ]
    }
   ],
   "source": [
    "def sum_of_even_numbers(numbers):\n",
    "    total = 0\n",
    "    for num in numbers:\n",
    "        if num % 2 == 0:\n",
    "            total += num\n",
    "    return total\n",
    "\n",
    "# Example usage:\n",
    "my_list = [10, 5, 8, 3, 2]\n",
    "result = sum_of_even_numbers(my_list)\n",
    "print(\"Sum of even numbers:\", result)\n"
   ]
  },
  {
   "cell_type": "markdown",
   "id": "727d8c32-8f64-4781-a936-51f449aca838",
   "metadata": {},
   "source": [
    "### 2. Create a Python function that accepts a string and returns the reverse of that string .\n",
    " - "
   ]
  },
  {
   "cell_type": "code",
   "execution_count": 16,
   "id": "af304fbf-bf3c-43b9-a454-5acf99b02b1e",
   "metadata": {},
   "outputs": [
    {
     "name": "stdout",
     "output_type": "stream",
     "text": [
      "iapap\n"
     ]
    }
   ],
   "source": [
    "def reverse_string (text):\n",
    "    return text[::-1]\n",
    "\n",
    "# Example use\n",
    "name = \"papai\"\n",
    "result = reverse_string(name)\n",
    "print(result)"
   ]
  },
  {
   "cell_type": "markdown",
   "id": "606a9976-7c9a-4504-bd68-6d901b6b5ab7",
   "metadata": {},
   "source": [
    "### 3. Implement a Python functions that takes a list of integers and returns a new list containing the squares of each number .\n",
    " - "
   ]
  },
  {
   "cell_type": "code",
   "execution_count": 19,
   "id": "1a5bc7b1-c6ac-4d90-81be-c31ee3791bbd",
   "metadata": {},
   "outputs": [
    {
     "name": "stdout",
     "output_type": "stream",
     "text": [
      "Squared list: [1, 4, 9, 16]\n"
     ]
    }
   ],
   "source": [
    "def square_numbers(numbers):\n",
    "    squared_list = []\n",
    "    for num in numbers:\n",
    "        squared_list.append(num ** 2)\n",
    "    return squared_list\n",
    "\n",
    "# Example usage:\n",
    "my_list = [1, 2, 3, 4]\n",
    "result = square_numbers(my_list)\n",
    "print(\"Squared list:\", result)\n"
   ]
  },
  {
   "cell_type": "markdown",
   "id": "3bc27cf0-b6ad-446d-87e8-fa7fe475dab2",
   "metadata": {},
   "source": [
    "### 4. Write a Python function that checks if a given number is prime or not from 1 to 200 .\n",
    " - "
   ]
  },
  {
   "cell_type": "code",
   "execution_count": 20,
   "id": "682779e3-0ccd-4a68-9bf9-addeb130b3a6",
   "metadata": {},
   "outputs": [
    {
     "name": "stdout",
     "output_type": "stream",
     "text": [
      "1 is not a prime number\n",
      "2 is a prime number\n",
      "3 is a prime number\n",
      "4 is not a prime number\n",
      "5 is a prime number\n",
      "6 is not a prime number\n",
      "7 is a prime number\n",
      "8 is not a prime number\n",
      "9 is not a prime number\n",
      "10 is not a prime number\n",
      "11 is a prime number\n",
      "12 is not a prime number\n",
      "13 is a prime number\n",
      "14 is not a prime number\n",
      "15 is not a prime number\n",
      "16 is not a prime number\n",
      "17 is a prime number\n",
      "18 is not a prime number\n",
      "19 is a prime number\n",
      "20 is not a prime number\n",
      "21 is not a prime number\n",
      "22 is not a prime number\n",
      "23 is a prime number\n",
      "24 is not a prime number\n",
      "25 is not a prime number\n",
      "26 is not a prime number\n",
      "27 is not a prime number\n",
      "28 is not a prime number\n",
      "29 is a prime number\n",
      "30 is not a prime number\n",
      "31 is a prime number\n",
      "32 is not a prime number\n",
      "33 is not a prime number\n",
      "34 is not a prime number\n",
      "35 is not a prime number\n",
      "36 is not a prime number\n",
      "37 is a prime number\n",
      "38 is not a prime number\n",
      "39 is not a prime number\n",
      "40 is not a prime number\n",
      "41 is a prime number\n",
      "42 is not a prime number\n",
      "43 is a prime number\n",
      "44 is not a prime number\n",
      "45 is not a prime number\n",
      "46 is not a prime number\n",
      "47 is a prime number\n",
      "48 is not a prime number\n",
      "49 is not a prime number\n",
      "50 is not a prime number\n",
      "51 is not a prime number\n",
      "52 is not a prime number\n",
      "53 is a prime number\n",
      "54 is not a prime number\n",
      "55 is not a prime number\n",
      "56 is not a prime number\n",
      "57 is not a prime number\n",
      "58 is not a prime number\n",
      "59 is a prime number\n",
      "60 is not a prime number\n",
      "61 is a prime number\n",
      "62 is not a prime number\n",
      "63 is not a prime number\n",
      "64 is not a prime number\n",
      "65 is not a prime number\n",
      "66 is not a prime number\n",
      "67 is a prime number\n",
      "68 is not a prime number\n",
      "69 is not a prime number\n",
      "70 is not a prime number\n",
      "71 is a prime number\n",
      "72 is not a prime number\n",
      "73 is a prime number\n",
      "74 is not a prime number\n",
      "75 is not a prime number\n",
      "76 is not a prime number\n",
      "77 is not a prime number\n",
      "78 is not a prime number\n",
      "79 is a prime number\n",
      "80 is not a prime number\n",
      "81 is not a prime number\n",
      "82 is not a prime number\n",
      "83 is a prime number\n",
      "84 is not a prime number\n",
      "85 is not a prime number\n",
      "86 is not a prime number\n",
      "87 is not a prime number\n",
      "88 is not a prime number\n",
      "89 is a prime number\n",
      "90 is not a prime number\n",
      "91 is not a prime number\n",
      "92 is not a prime number\n",
      "93 is not a prime number\n",
      "94 is not a prime number\n",
      "95 is not a prime number\n",
      "96 is not a prime number\n",
      "97 is a prime number\n",
      "98 is not a prime number\n",
      "99 is not a prime number\n",
      "100 is not a prime number\n",
      "101 is a prime number\n",
      "102 is not a prime number\n",
      "103 is a prime number\n",
      "104 is not a prime number\n",
      "105 is not a prime number\n",
      "106 is not a prime number\n",
      "107 is a prime number\n",
      "108 is not a prime number\n",
      "109 is a prime number\n",
      "110 is not a prime number\n",
      "111 is not a prime number\n",
      "112 is not a prime number\n",
      "113 is a prime number\n",
      "114 is not a prime number\n",
      "115 is not a prime number\n",
      "116 is not a prime number\n",
      "117 is not a prime number\n",
      "118 is not a prime number\n",
      "119 is not a prime number\n",
      "120 is not a prime number\n",
      "121 is not a prime number\n",
      "122 is not a prime number\n",
      "123 is not a prime number\n",
      "124 is not a prime number\n",
      "125 is not a prime number\n",
      "126 is not a prime number\n",
      "127 is a prime number\n",
      "128 is not a prime number\n",
      "129 is not a prime number\n",
      "130 is not a prime number\n",
      "131 is a prime number\n",
      "132 is not a prime number\n",
      "133 is not a prime number\n",
      "134 is not a prime number\n",
      "135 is not a prime number\n",
      "136 is not a prime number\n",
      "137 is a prime number\n",
      "138 is not a prime number\n",
      "139 is a prime number\n",
      "140 is not a prime number\n",
      "141 is not a prime number\n",
      "142 is not a prime number\n",
      "143 is not a prime number\n",
      "144 is not a prime number\n",
      "145 is not a prime number\n",
      "146 is not a prime number\n",
      "147 is not a prime number\n",
      "148 is not a prime number\n",
      "149 is a prime number\n",
      "150 is not a prime number\n",
      "151 is a prime number\n",
      "152 is not a prime number\n",
      "153 is not a prime number\n",
      "154 is not a prime number\n",
      "155 is not a prime number\n",
      "156 is not a prime number\n",
      "157 is a prime number\n",
      "158 is not a prime number\n",
      "159 is not a prime number\n",
      "160 is not a prime number\n",
      "161 is not a prime number\n",
      "162 is not a prime number\n",
      "163 is a prime number\n",
      "164 is not a prime number\n",
      "165 is not a prime number\n",
      "166 is not a prime number\n",
      "167 is a prime number\n",
      "168 is not a prime number\n",
      "169 is not a prime number\n",
      "170 is not a prime number\n",
      "171 is not a prime number\n",
      "172 is not a prime number\n",
      "173 is a prime number\n",
      "174 is not a prime number\n",
      "175 is not a prime number\n",
      "176 is not a prime number\n",
      "177 is not a prime number\n",
      "178 is not a prime number\n",
      "179 is a prime number\n",
      "180 is not a prime number\n",
      "181 is a prime number\n",
      "182 is not a prime number\n",
      "183 is not a prime number\n",
      "184 is not a prime number\n",
      "185 is not a prime number\n",
      "186 is not a prime number\n",
      "187 is not a prime number\n",
      "188 is not a prime number\n",
      "189 is not a prime number\n",
      "190 is not a prime number\n",
      "191 is a prime number\n",
      "192 is not a prime number\n",
      "193 is a prime number\n",
      "194 is not a prime number\n",
      "195 is not a prime number\n",
      "196 is not a prime number\n",
      "197 is a prime number\n",
      "198 is not a prime number\n",
      "199 is a prime number\n",
      "200 is not a prime number\n"
     ]
    }
   ],
   "source": [
    "def is_prime(n):\n",
    "    if n <= 1:\n",
    "        return False\n",
    "    for i in range(2, int(n**0.5) + 1):\n",
    "        if n % i == 0:\n",
    "            return False\n",
    "    return True\n",
    "\n",
    "# Example usage: Check numbers from 1 to 200\n",
    "for num in range(1, 201):\n",
    "    if is_prime(num):\n",
    "        print(num, \"is a prime number\")\n",
    "    else:\n",
    "        print(num, \"is not a prime number\")\n"
   ]
  },
  {
   "cell_type": "markdown",
   "id": "cc4be0d6-05d4-4bf4-8be1-233d33f96d40",
   "metadata": {},
   "source": [
    "### 5. Create an iterator class in Python that generates the fibonacci sequence up to specified number of terms .\n",
    " - "
   ]
  },
  {
   "cell_type": "code",
   "execution_count": 24,
   "id": "2e569a97-d28a-4173-b7cb-d882aff3db31",
   "metadata": {},
   "outputs": [
    {
     "name": "stdout",
     "output_type": "stream",
     "text": [
      "0\n",
      "1\n",
      "1\n",
      "2\n",
      "3\n",
      "5\n",
      "8\n"
     ]
    }
   ],
   "source": [
    "class Fibonacci:\n",
    "    def __init__(self, n):\n",
    "        self.n = n\n",
    "        self.a, self.b = 0, 1\n",
    "        self.count = 0\n",
    "\n",
    "    def __iter__(self):\n",
    "        return self\n",
    "\n",
    "    def __next__(self):\n",
    "        if self.count >= self.n:\n",
    "            raise StopIteration\n",
    "        val = self.a\n",
    "        self.a, self.b = self.b, self.a + self.b\n",
    "        self.count += 1\n",
    "        return val\n",
    "\n",
    "# Example usage:\n",
    "for num in Fibonacci(7):\n",
    "    print(num)\n"
   ]
  },
  {
   "cell_type": "markdown",
   "id": "50c2863a-1a62-44d2-81e7-c3601d5684f7",
   "metadata": {},
   "source": [
    "### 6. Write a generator function in Python that yields the power of 2 up to given exponent .\n",
    " - "
   ]
  },
  {
   "cell_type": "code",
   "execution_count": 26,
   "id": "24e87819-36f5-4972-bdea-0d2b2e604b72",
   "metadata": {},
   "outputs": [
    {
     "name": "stdout",
     "output_type": "stream",
     "text": [
      "1\n",
      "2\n",
      "4\n",
      "8\n"
     ]
    }
   ],
   "source": [
    "def power_of_two(limit):\n",
    "    for i in range(limit + 1):\n",
    "        yield 2 ** i\n",
    "\n",
    "# Example usage:\n",
    "for num in power_of_two(3):\n",
    "    print(num)\n"
   ]
  },
  {
   "cell_type": "markdown",
   "id": "b92583af-a4ea-4042-a55e-88bc991ba900",
   "metadata": {},
   "source": [
    "### 7. Implement a generator function that reads a file line by line and yields each line as string .\n",
    " - "
   ]
  },
  {
   "cell_type": "code",
   "execution_count": 33,
   "id": "66ed38b2-5f32-43af-9e83-34f21381a649",
   "metadata": {},
   "outputs": [],
   "source": [
    "def read_file_lines(file_name):\n",
    "    try:\n",
    "        with open(file_name, 'r') as file:\n",
    "            for line in file:\n",
    "                yield line\n",
    "    except FileNotFoundError:\n",
    "        print(f\"File '{file_name}' not found.\")"
   ]
  },
  {
   "cell_type": "markdown",
   "id": "93306066-0d42-4b8e-aabb-6c79afe97379",
   "metadata": {},
   "source": [
    "### 8. Use a lambda function in Python to sort a list of tuples based on the second element of each tuple .\n",
    " - "
   ]
  },
  {
   "cell_type": "code",
   "execution_count": 35,
   "id": "c27236b5-750a-4382-86cd-bd987c9c0896",
   "metadata": {},
   "outputs": [
    {
     "name": "stdout",
     "output_type": "stream",
     "text": [
      "Sorted list: [(5, 0), (4, 1), (2, 2), (1, 3)]\n"
     ]
    }
   ],
   "source": [
    "# List of tuples\n",
    "items = [(1, 3), (4, 1), (2, 2), (5, 0)]\n",
    "\n",
    "# Sort using lambda function by second element\n",
    "sorted_items = sorted(items, key=lambda x: x[1])\n",
    "\n",
    "# Print the sorted list\n",
    "print(\"Sorted list:\", sorted_items)\n"
   ]
  },
  {
   "cell_type": "markdown",
   "id": "97d51e01-cc28-40ed-8013-d8362736d0cb",
   "metadata": {},
   "source": [
    "### 9. Write a Python program that uses ' map() ' to convert a list of tempreatures from Celsius to Fahrenheit .\n",
    " - "
   ]
  },
  {
   "cell_type": "code",
   "execution_count": 34,
   "id": "080d0efe-86de-44cf-8bcf-28eef21a7546",
   "metadata": {},
   "outputs": [
    {
     "name": "stdout",
     "output_type": "stream",
     "text": [
      "Fahrenheit temperatures: [32.0, 68.0, 98.6, 212.0]\n"
     ]
    }
   ],
   "source": [
    "# Function to convert Celsius to Fahrenheit\n",
    "def c_to_f(celsius):\n",
    "    return (celsius * 9/5) + 32\n",
    "\n",
    "# List of temperatures in Celsius\n",
    "celsius_temps = [0, 20, 37, 100]\n",
    "\n",
    "# Convert using map()\n",
    "fahrenheit_temps = list(map(c_to_f, celsius_temps))\n",
    "\n",
    "# Print the result\n",
    "print(\"Fahrenheit temperatures:\", fahrenheit_temps)\n"
   ]
  },
  {
   "cell_type": "markdown",
   "id": "721a6dec-80ae-4159-9c93-9eda263e6710",
   "metadata": {},
   "source": [
    "### 10. Create a Python program that uses 'filter()' to remove all the vowels from a given string .\n",
    " - "
   ]
  },
  {
   "cell_type": "code",
   "execution_count": 36,
   "id": "21916009-9373-4b09-a60b-2c0407965eb9",
   "metadata": {},
   "outputs": [
    {
     "name": "stdout",
     "output_type": "stream",
     "text": [
      "String without vowels: Hll Wrld\n"
     ]
    }
   ],
   "source": [
    "# Given string\n",
    "text = \"Hello World\"\n",
    "\n",
    "# Define a function to check if a character is not a vowel\n",
    "def is_not_vowel(char):\n",
    "    return char.lower() not in 'aeiou'\n",
    "\n",
    "# Use filter to remove vowels\n",
    "result = ''.join(filter(is_not_vowel, text))\n",
    "\n",
    "# Print the result\n",
    "print(\"String without vowels:\", result)\n"
   ]
  },
  {
   "cell_type": "markdown",
   "id": "0280970e-12c1-4edb-a9d1-ab10a2689c00",
   "metadata": {},
   "source": [
    "### 11. Imagine an accounting routine used in a book shop. It works on a list with sublists, which look like this: "
   ]
  },
  {
   "attachments": {
    "952ba630-7b31-4a0e-b637-403b0c8d76e8.jpg": {
     "image/jpeg": "[encoded data removed]"
    }
   },
   "cell_type": "markdown",
   "id": "75b770d5-8ee2-41dc-8ab9-db6a5e6b7b9e",
   "metadata": {},
   "source": [
    "![WhatsApp Image 2025-05-22 at 00.57.16_8256b76b.jpg](attachment:952ba630-7b31-4a0e-b637-403b0c8d76e8.jpg)"
   ]
  },
  {
   "cell_type": "markdown",
   "id": "61753a31-6e23-48f2-bd69-2bdf0088e09d",
   "metadata": {},
   "source": [
    "### Write a Python program, which returns a list with 2-tuples. Each tuple consists of the order number and the product of the price per item and the quantity. The product should be increased by 10,- € if the value of the order is smaller than 100,00 €.\n",
    "### Write a Python program using lambda and map."
   ]
  },
  {
   "cell_type": "code",
   "execution_count": 4,
   "id": "d8ee59df-7deb-4363-a880-2f908c164504",
   "metadata": {},
   "outputs": [
    {
     "name": "stdout",
     "output_type": "stream",
     "text": [
      "[(34587, 163.8), (98762, 284.0), (77226, 108.85000000000001), (88112, 84.97)]\n"
     ]
    }
   ],
   "source": [
    "orders = [[34587 , \"Learning Python , Mark Lutz \" , 4 , 40.95 ] ,  [ 98762 , \"Programming Python , Mark Lutz\" , 5 , 56.80 ] , [77226 , \"Head First Python , Paul Barry \" , 3 , 32.95] , [88112 , \"Einfuhrung in Python3 , Bernd Klein\" , 3 , 24.99]]\n",
    "invoice = list(map ( lambda order : ( order[0] , order[2] * order[3] if order[2] * order[3] >= 100 else order[2] * order [3] + 10 ) , orders ))\n",
    "print(invoice)"
   ]
  }
 ],
 "metadata": {
  "kernelspec": {
   "display_name": "Python 3 (ipykernel)",
   "language": "python",
   "name": "python3"
  },
  "language_info": {
   "codemirror_mode": {
    "name": "ipython",
    "version": 3
   },
   "file_extension": ".py",
   "mimetype": "text/x-python",
   "name": "python",
   "nbconvert_exporter": "python",
   "pygments_lexer": "ipython3",
   "version": "3.13.3"
  }
 },
 "nbformat": 4,
 "nbformat_minor": 5
}
